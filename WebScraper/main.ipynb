{
 "cells": [
  {
   "cell_type": "code",
   "execution_count": 33,
   "metadata": {},
   "outputs": [
    {
     "name": "stdout",
     "output_type": "stream",
     "text": [
      "1\n"
     ]
    },
    {
     "name": "stderr",
     "output_type": "stream",
     "text": [
      "C:\\Users\\david\\AppData\\Local\\Temp\\ipykernel_27752\\2941133660.py:39: FutureWarning: The behavior of DataFrame concatenation with empty or all-NA entries is deprecated. In a future version, this will no longer exclude empty or all-NA columns when determining the result dtypes. To retain the old behavior, exclude the relevant entries before the concat operation.\n",
      "  postsDf = pd.concat([postsDf, new_row], ignore_index=True)\n"
     ]
    },
    {
     "name": "stdout",
     "output_type": "stream",
     "text": [
      "2\n",
      "3\n",
      "4\n",
      "5\n"
     ]
    },
    {
     "ename": "KeyboardInterrupt",
     "evalue": "",
     "output_type": "error",
     "traceback": [
      "\u001b[1;31m---------------------------------------------------------------------------\u001b[0m",
      "\u001b[1;31mKeyboardInterrupt\u001b[0m                         Traceback (most recent call last)",
      "Cell \u001b[1;32mIn[33], line 37\u001b[0m\n\u001b[0;32m     26\u001b[0m new_row \u001b[38;5;241m=\u001b[39m pd\u001b[38;5;241m.\u001b[39mDataFrame({\n\u001b[0;32m     27\u001b[0m     \u001b[38;5;124m'\u001b[39m\u001b[38;5;124murl\u001b[39m\u001b[38;5;124m'\u001b[39m: post\u001b[38;5;241m.\u001b[39mshortcode,\n\u001b[0;32m     28\u001b[0m     \u001b[38;5;124m'\u001b[39m\u001b[38;5;124mlikes\u001b[39m\u001b[38;5;124m'\u001b[39m: post\u001b[38;5;241m.\u001b[39mlikes,\n\u001b[1;32m   (...)\u001b[0m\n\u001b[0;32m     33\u001b[0m     \u001b[38;5;124m'\u001b[39m\u001b[38;5;124maccessibility_caption\u001b[39m\u001b[38;5;124m'\u001b[39m: [photo_caption\u001b[38;5;241m.\u001b[39mreplace(\u001b[38;5;124m\"\u001b[39m\u001b[38;5;130;01m\\n\u001b[39;00m\u001b[38;5;124m\"\u001b[39m,\u001b[38;5;124m\"\u001b[39m\u001b[38;5;124m\"\u001b[39m)],\n\u001b[0;32m     34\u001b[0m })\n\u001b[0;32m     36\u001b[0m cnt \u001b[38;5;241m+\u001b[39m\u001b[38;5;241m=\u001b[39m \u001b[38;5;241m1\u001b[39m\n\u001b[1;32m---> 37\u001b[0m \u001b[43mtime\u001b[49m\u001b[38;5;241;43m.\u001b[39;49m\u001b[43msleep\u001b[49m\u001b[43m(\u001b[49m\u001b[38;5;241;43m1\u001b[39;49m\u001b[43m)\u001b[49m\n\u001b[0;32m     38\u001b[0m \u001b[38;5;28mprint\u001b[39m(cnt)\n\u001b[0;32m     39\u001b[0m postsDf \u001b[38;5;241m=\u001b[39m pd\u001b[38;5;241m.\u001b[39mconcat([postsDf, new_row], ignore_index\u001b[38;5;241m=\u001b[39m\u001b[38;5;28;01mTrue\u001b[39;00m)\n",
      "\u001b[1;31mKeyboardInterrupt\u001b[0m: "
     ]
    }
   ],
   "source": [
    "import instaloader\n",
    "import pandas as pd\n",
    "import datetime \n",
    "import time\n",
    "\n",
    "cutoffdate = datetime.datetime.today() - datetime.timedelta(days=120)\n",
    "handles = ['uwengsoc','uwcsa','uw_ux','uwblueprint','uwaterlooeng','uwaterloottc','uwaterloodsc','uwaterloopm','uwmcc','gdscwaterloo','uwsmileclub','socratica.info','wataiteam','uwawscloud','techplusuw','itshera.co','uwstartups','electriummobility','uwhiphop','uwaterloo_ksa','uw_aviation','uwaterloopm','uwmcc','uwmsa','gdscwaterloo','waterloo_ultimate','uwcheeseclub','uwstreetdance','uwmidsun','watolink_uw','uwaterlooeng','uwpokerclub','uwaterloocycling','uwaterloobsa','uw_phys_club','uw.gsa','uwcsclub','uwfintech','uwaterloosc','uwactsciclub','uwstatsclub']\n",
    "postscolumns = ['account','date','caption','accessibility_caption']\n",
    "postsDf = pd.DataFrame(columns = postscolumns)\n",
    "\n",
    "cnt = 0\n",
    "\n",
    "for handle in handles:\n",
    "    L = instaloader.Instaloader()\n",
    "    profile = instaloader.Profile.from_username(L.context, handle)\n",
    "    for post in profile.get_posts():\n",
    "        if post.date > cutoffdate:\n",
    "            if (post.accessibility_caption) == None:\n",
    "                photo_caption = \"\"\n",
    "            else:\n",
    "                photo_caption = post.accessibility_caption\n",
    "            if (post.caption) == None:\n",
    "                caption = \"\"\n",
    "            else:\n",
    "                caption = post.caption\n",
    "            new_row = pd.DataFrame({\n",
    "                'url': post.shortcode,\n",
    "                'likes': post.likes,\n",
    "                'display_photo': post.url,\n",
    "                'account': [handle.replace('\\\"','\\\\\\\"')],\n",
    "                'date': [post.date],\n",
    "                'caption': [caption.replace(\"\\n\",\"\")],\n",
    "                'accessibility_caption': [photo_caption.replace(\"\\n\",\"\")],\n",
    "            })\n",
    "\n",
    "            cnt += 1\n",
    "            time.sleep(1)\n",
    "            print(cnt)\n",
    "            postsDf = pd.concat([postsDf, new_row], ignore_index=True)\n",
    "            if cnt > 2:\n",
    "                break\n",
    "        else:\n",
    "            break\n",
    "\n",
    "print(postsDf)\n"
   ]
  },
  {
   "cell_type": "code",
   "execution_count": 34,
   "metadata": {},
   "outputs": [],
   "source": [
    "postsDf.reset_index(drop=True) \n",
    "postsDf.to_csv(\"instagram_raw.csv\")"
   ]
  },
  {
   "cell_type": "code",
   "execution_count": 48,
   "metadata": {},
   "outputs": [
    {
     "name": "stdout",
     "output_type": "stream",
     "text": [
      "No\n",
      "No\n",
      "No\n",
      "No\n",
      "Yes\n"
     ]
    }
   ],
   "source": [
    "#Preliminary Screening to determine if posts contains event or not\n",
    "\n",
    "from together import Together\n",
    "import os\n",
    "from dotenv import load_dotenv\n",
    "import pandas as pd\n",
    "\n",
    "\n",
    "load_dotenv()\n",
    "togetherAPI = os.getenv('TOGETHER_API')\n",
    "client = Together(api_key=togetherAPI)\n",
    "\n",
    "postsDf = pd.read_csv(\"instagram_raw.csv\").replace('\"','', regex=True)\n",
    "postsDf[\"is_event\"] = pd.NA\n",
    "postsDf[\"processed_json\"]=pd.NA\n",
    "\n",
    "def check_string(input_string):\n",
    "    if any(word in input_string for word in ['yes', 'Yes', 'True', 'true']):\n",
    "        return True\n",
    "    elif any(word in input_string for word in ['no', 'No', 'False', 'false']):\n",
    "        return False\n",
    "    else:\n",
    "        return False  # This handles cases where none of the words are found\n",
    "\n",
    "\n",
    "cnt=0\n",
    "for index, row in postsDf.iterrows():\n",
    "    currentjson = f\"'account': '{row['account']}'; 'caption': '{row['caption']}'; 'photo_caption': '{row['accessibility_caption']}'\"\n",
    "    postsDf.at[index, \"processed_json\"] = currentjson\n",
    "    response = client.chat.completions.create(\n",
    "        model=\"meta-llama/Meta-Llama-3.1-8B-Instruct-Turbo\",\n",
    "        messages=[{\"role\": \"user\", \"content\": f'Does the following instagram post contain a club event with start time and end time. RETURN Yes or No: {currentjson}'}],\n",
    "        max_tokens=2\n",
    "    )\n",
    "    print(response.choices[0].message.content)\n",
    "    is_event = check_string(response.choices[0].message.content)\n",
    "    postsDf.at[index, \"is_event\"] = is_event"
   ]
  },
  {
   "cell_type": "code",
   "execution_count": 49,
   "metadata": {},
   "outputs": [],
   "source": [
    "postsDf.to_csv(\"preliminaryProcessedInformation.csv\")"
   ]
  },
  {
   "cell_type": "code",
   "execution_count": 50,
   "metadata": {},
   "outputs": [],
   "source": [
    "from together import Together\n",
    "import os\n",
    "from pydantic import BaseModel, Field\n",
    "from dotenv import load_dotenv\n",
    "import json\n",
    "import pandas as pd\n",
    "from enum import Enum, auto\n",
    "import re\n",
    "\n",
    "load_dotenv()\n",
    "togetherAPI = os.getenv('TOGETHER_API')\n",
    "client = Together(api_key=togetherAPI)\n",
    "\n",
    "basePrompt = open(\"C:/Users/david/Desktop/uw-upnext/WebScraper/basePrompt.in\",\"r\", encoding = \"utf-8\").read()\n",
    "\n",
    "postsDf = pd.read_csv(\"C:/Users/david/Desktop/uw-upnext/WebScraper/preliminaryProcessedInformation.csv\")\n",
    "\n",
    "basePrompt = open(\"basePrompt.in\",\"r\", encoding = \"utf-8\").read()\n",
    "\n",
    "def remove_emojis(text):\n",
    "    # Unicode ranges for emojis\n",
    "    emoji_pattern = re.compile(\n",
    "        \"[\"\n",
    "        \"\\U0001F600-\\U0001F64F\"  # emoticons\n",
    "        \"\\U0001F300-\\U0001F5FF\"  # symbols & pictographs\n",
    "        \"\\U0001F680-\\U0001F6FF\"  # transport & map symbols\n",
    "        \"\\U0001F1E0-\\U0001F1FF\"  # flags (iOS)\n",
    "        \"\\U00002702-\\U000027B0\"\n",
    "        \"\\U000024C2-\\U0001F251\"\n",
    "        \"]+\",\n",
    "        flags=re.UNICODE\n",
    "    )\n",
    "    return emoji_pattern.sub(r'', text)\n",
    "\n",
    "class Category(Enum):\n",
    "    TECH = auto()\n",
    "    DESIGN = auto()\n",
    "    SOCIAL = auto()\n",
    "    ENTERTAINMENT = auto()\n",
    "    CULTURE = auto()\n",
    "    SPORTS = auto()\n",
    "    NETWORKING = auto()\n",
    "    GAMING = auto()\n",
    "\n",
    "class Event(BaseModel):\n",
    "    return_id: str = Field(description=\"Return id of event\")\n",
    "    is_event: bool = Field(description=\"Whether the post contains an event\")\n",
    "    event_name: str = Field(description=\"The Name of the Event\")\n",
    "    event_description: str = Field(description='Concise 20 word summary of the event without time or location')\n",
    "    event_categories: list[str] = Field(description='Categorize the Event into one of the following: TECH, DESIGN, SOCIAL, MUSIC, CULTURE, SPORTS, NETWORK, GAMING')\n",
    "    start_time: str = Field(description=\"The Start time of Event in the format: yyyy-mm-ddTHH:MM:SS+00:00\")\n",
    "    end_time: str = Field(description=\"The End time of Event in the format: yyyy-mm-ddTHH:MM:SS+00:00\")\n",
    "    location: str = Field(description= \"The location of event\")\n",
    "\n",
    "def return_event_details(inputJson : str):\n",
    "    chat_completion = client.chat.completions.create(\n",
    "    model = \"meta-llama/Meta-Llama-3.1-8B-Instruct-Turbo\",\n",
    "    response_format={\"type\": \"json_object\", \"schema\": Event.model_json_schema()},\n",
    "    messages=[\n",
    "        {\n",
    "            \"role\": \"system\",\n",
    "            \"content\": basePrompt,\n",
    "        },\n",
    "        {\n",
    "            \"role\": \"user\",\n",
    "            \"content\": \"\\n\\n Input \" + remove_emojis(inputJson) + \"\\n\\n\" + \"Output\",\n",
    "        },\n",
    "    ])\n",
    "    \n",
    "    created_event = json.loads(chat_completion.choices[0].message.content)\n",
    "    return created_event\n",
    "\n",
    "def extract_details_with_error_handling(inputJson, index):\n",
    "        try: \n",
    "            created_event = return_event_details(inputJson)\n",
    "            return created_event\n",
    "        except Exception as err:\n",
    "            print(str(err))\n",
    "            return {'return_id': index, 'is_event': False, 'event_name': None, 'start_time': None, 'end_time': None, 'location': None}\n",
    "    \n",
    "# print(extract_details_with_error_handling(processedjson[0], 0))"
   ]
  },
  {
   "cell_type": "code",
   "execution_count": null,
   "metadata": {},
   "outputs": [],
   "source": []
  },
  {
   "cell_type": "code",
   "execution_count": 54,
   "metadata": {},
   "outputs": [
    {
     "name": "stdout",
     "output_type": "stream",
     "text": [
      "no event detected\n",
      "no event detected\n",
      "no event detected\n",
      "no event detected\n",
      "{'return_id': 'uwblueprint', 'is_event': True, 'event_name': 'Celebrating Term Projects and Collaborations', 'event_description': 'Celebrating projects and collaborations', 'event_categories': ['ENTERTAINMENT', 'CULTURE'], 'start_time': 'July 29', 'end_time': '8pm', 'location': 'black and gold room in SLCD'}\n"
     ]
    }
   ],
   "source": [
    "import time\n",
    "postsDf = pd.read_csv(\"preliminaryProcessedInformation.csv\")\n",
    "\n",
    "postsDf[\"event_details\"] = pd.NA\n",
    "\n",
    "\n",
    "for index, row in postsDf.iterrows():\n",
    "    if postsDf.at[index, \"is_event\"]== True:\n",
    "        event_details = return_event_details(str(postsDf.at[index, \"processed_json\"]))\n",
    "        print(event_details)\n",
    "        if event_details[\"event_name\"] == None or event_details[\"start_time\"] == None or event_details[\"end_time\"] == None:\n",
    "            postsDf.at[index, \"is_event\"] = False\n",
    "            postsDf.at[index, \"event_details\"] = None\n",
    "        else:\n",
    "            postsDf.at[index, \"event_details\"] = event_details\n",
    "    else: print(\"no event detected\")"
   ]
  },
  {
   "cell_type": "code",
   "execution_count": 55,
   "metadata": {},
   "outputs": [
    {
     "name": "stdout",
     "output_type": "stream",
     "text": [
      "   Unnamed: 0.1  Unnamed: 0      account                 date  \\\n",
      "0             0           0     uwengsoc  2024-05-26 19:29:29   \n",
      "1             1           1     uwengsoc  2024-08-26 17:33:54   \n",
      "2             2           2     uwengsoc  2024-08-26 17:31:50   \n",
      "3             3           3        uw_ux  2024-08-08 03:40:09   \n",
      "4             4           4  uwblueprint  2024-07-28 15:28:07   \n",
      "\n",
      "                                             caption  \\\n",
      "0    EngSoc Student Services Hours*Subject to change   \n",
      "1  Introducing our Fall 2024 Operations Commissio...   \n",
      "2  Introducing our Fall 2024 Swag Commissioner, A...   \n",
      "3  🚨FALL ‘24 EXEC APPLICATIONS ARE EXTENDED TO AU...   \n",
      "4  Join us in celebrating an amazing term of proj...   \n",
      "\n",
      "                               accessibility_caption          url  likes  \\\n",
      "0  Photo by Waterloo Engineering Society on May 2...  C7cYYPkJEXd   40.0   \n",
      "1  Introducing our Fall 2024 Operations Commissio...  C_JESKsuAcf   30.0   \n",
      "2  Introducing our Fall 2024 Swag Commissioner, A...  C_JEDCQOLFq   37.0   \n",
      "3  Photo by UW/UX on August 07, 2024. May be a gr...  C-ZOj4cgKKW  103.0   \n",
      "4  Photo by UW Blueprint on July 28, 2024. May be...  C9-K1iSgOEe   38.0   \n",
      "\n",
      "                                       display_photo  is_event  \\\n",
      "0  https://instagram.fyyc6-1.fna.fbcdn.net/v/t51....     False   \n",
      "1  https://instagram.fyyc6-1.fna.fbcdn.net/v/t51....     False   \n",
      "2  https://instagram.fyyc6-1.fna.fbcdn.net/v/t51....     False   \n",
      "3  https://instagram.fyyc6-1.fna.fbcdn.net/v/t39....     False   \n",
      "4  https://instagram.fyyc6-1.fna.fbcdn.net/v/t39....      True   \n",
      "\n",
      "                                      processed_json  \\\n",
      "0  'account': 'uwengsoc'; 'caption': 'EngSoc Stud...   \n",
      "1  'account': 'uwengsoc'; 'caption': 'Introducing...   \n",
      "2  'account': 'uwengsoc'; 'caption': 'Introducing...   \n",
      "3  'account': 'uw_ux'; 'caption': '🚨FALL ‘24 EXEC...   \n",
      "4  'account': 'uwblueprint'; 'caption': 'Join us ...   \n",
      "\n",
      "                                       event_details  \n",
      "0                                               <NA>  \n",
      "1                                               <NA>  \n",
      "2                                               <NA>  \n",
      "3                                               <NA>  \n",
      "4  {'return_id': 'uwblueprint', 'is_event': True,...  \n"
     ]
    }
   ],
   "source": [
    "postsDf.reset_index(drop=True) \n",
    "postsDf.to_csv(\"information_for_mongo.csv\")\n",
    "\n",
    "print(postsDf)"
   ]
  }
 ],
 "metadata": {
  "kernelspec": {
   "display_name": "Python 3",
   "language": "python",
   "name": "python3"
  },
  "language_info": {
   "codemirror_mode": {
    "name": "ipython",
    "version": 3
   },
   "file_extension": ".py",
   "mimetype": "text/x-python",
   "name": "python",
   "nbconvert_exporter": "python",
   "pygments_lexer": "ipython3",
   "version": "3.12.5"
  }
 },
 "nbformat": 4,
 "nbformat_minor": 2
}
