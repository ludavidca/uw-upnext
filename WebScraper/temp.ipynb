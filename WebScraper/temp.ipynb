{
 "cells": [
  {
   "cell_type": "code",
   "execution_count": 3,
   "id": "4a406f89",
   "metadata": {},
   "outputs": [
    {
     "data": {
      "text/plain": [
       "True"
      ]
     },
     "execution_count": 3,
     "metadata": {},
     "output_type": "execute_result"
    }
   ],
   "source": [
    "from apify_client import ApifyClientAsync\n",
    "from dotenv import load_dotenv\n",
    "import json\n",
    "\n",
    "load_dotenv(\"../.env\")"
   ]
  },
  {
   "cell_type": "code",
   "execution_count": 4,
   "id": "9c3a50c9",
   "metadata": {},
   "outputs": [],
   "source": [
    "with open(\"C:/Users/david/Desktop/Ongoing Projects/uw-upnext/public/events.json\") as f:\n",
    "    events = json.load(f)"
   ]
  },
  {
   "cell_type": "code",
   "execution_count": null,
   "id": "105e5e35",
   "metadata": {},
   "outputs": [],
   "source": [
    "events = [e for e in events if e[\"event_details\"][\"is_event\"] and e[\"event_details\"][\"start_time\"] and  e[\"event_details\"][\"start_time\"] != \"null\"]\n",
    "unique_events = []\n",
    "seen_names = set()\n",
    "for e in events:\n",
    "    name = e[\"event_details\"][\"event_name\"]\n",
    "    if name not in seen_names:\n",
    "        unique_events.append(e)\n",
    "        seen_names.add(name)\n",
    "\n",
    "with open(\"C:/Users/david/Desktop/Ongoing Projects/uw-upnext/public/events.json\", \"w\") as f:\n",
    "    json.dump(events, f, indent=4)"
   ]
  },
  {
   "cell_type": "code",
   "execution_count": 6,
   "id": "5c182177",
   "metadata": {},
   "outputs": [
    {
     "data": {
      "text/plain": [
       "883"
      ]
     },
     "execution_count": 6,
     "metadata": {},
     "output_type": "execute_result"
    }
   ],
   "source": [
    "len(events)"
   ]
  }
 ],
 "metadata": {
  "kernelspec": {
   "display_name": "Python 3",
   "language": "python",
   "name": "python3"
  },
  "language_info": {
   "codemirror_mode": {
    "name": "ipython",
    "version": 3
   },
   "file_extension": ".py",
   "mimetype": "text/x-python",
   "name": "python",
   "nbconvert_exporter": "python",
   "pygments_lexer": "ipython3",
   "version": "3.12.10"
  }
 },
 "nbformat": 4,
 "nbformat_minor": 5
}
