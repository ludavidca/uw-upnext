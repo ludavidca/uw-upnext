{
 "cells": [
  {
   "cell_type": "code",
   "execution_count": 1,
   "metadata": {},
   "outputs": [],
   "source": [
    "import os\n",
    "from dotenv import load_dotenv\n",
    "from pymongo.mongo_client import MongoClient\n",
    "from pymongo.server_api import ServerApi\n",
    "import pandas as pd\n",
    "\n",
    "load_dotenv()\n",
    "uri = os.getenv('DATABASE_URI')\n",
    "client = MongoClient(uri, server_api=ServerApi('1'))\n",
    "db = client['Instagram']\n",
    "collection = db[\"Events\"]\n",
    "\n",
    "# postsDf = pd.read_csv(\"information_for_mongo.csv\")"
   ]
  },
  {
   "cell_type": "code",
   "execution_count": 2,
   "metadata": {},
   "outputs": [
    {
     "name": "stdout",
     "output_type": "stream",
     "text": [
      "1725827400.0 1725836400.0\n",
      "4 Start failed \n",
      "1725827400.0 1725836400.0\n",
      "1725926400.0 1725930000.0\n",
      "6 Start failed \n",
      "1725926400.0 1725930000.0\n"
     ]
    }
   ],
   "source": [
    "#time conversion and edit formats\n",
    "from datetime import datetime\n",
    "import time\n",
    "\n",
    "postsDf.reset_index(drop=True)\n",
    "postsDf = postsDf.fillna(value=\"None\")\n",
    "postsDf.drop(postsDf.columns[postsDf.columns.str.contains(\n",
    "    'unnamed', case=False)], axis=1, inplace=True)\n",
    "\n",
    "for index, row in postsDf.iterrows():\n",
    "    if row[\"is_event\"] == True:\n",
    "      row_dict = {}\n",
    "      row_dict = eval(row[\"event_details\"])\n",
    "      try:\n",
    "        conStart = datetime.fromisoformat(row_dict[\"start_time\"])\n",
    "        unixStart = time.mktime(conStart.timetuple())\n",
    "        try:\n",
    "          conEnd = datetime.fromisoformat(row_dict[\"end_time\"])\n",
    "          unixEnd = time.mktime(conEnd.timetuple())\n",
    "        except:\n",
    "          conEnd = None\n",
    "        row_dict[\"start_time\"]=unixStart\n",
    "        row_dict[\"end_time\"]=unixEnd\n",
    "      except:\n",
    "        postsDf.at[index, \"is_event\"] = False\n",
    "        err = f'Start failed {row_dict[\"start_time\"]}'\n",
    "        print(index, err)\n",
    "      postsDf.at[index, \"event_details\"] = row_dict\n",
    "      print(unixStart,unixEnd)"
   ]
  },
  {
   "cell_type": "code",
   "execution_count": 2,
   "metadata": {},
   "outputs": [
    {
     "data": {
      "text/plain": [
       "DeleteResult({'n': 11, 'electionId': ObjectId('7fffffff0000000000000daa'), 'opTime': {'ts': Timestamp(1730593622, 15), 't': 3498}, 'ok': 1.0, '$clusterTime': {'clusterTime': Timestamp(1730593622, 15), 'signature': {'hash': b'\\xee\\xad\\x89Y\\xd6,O\\x87Z\\x02OQj\\x12{\\x853\\x12\\x80T', 'keyId': 7394494294142222396}}, 'operationTime': Timestamp(1730593622, 15)}, acknowledged=True)"
      ]
     },
     "execution_count": 2,
     "metadata": {},
     "output_type": "execute_result"
    }
   ],
   "source": [
    "#resetting db if nexessary\n",
    "load_dotenv()\n",
    "uri = os.getenv('DATABASE_URI')\n",
    "client = MongoClient(uri, server_api=ServerApi('1'))\n",
    "db = client['Instagram']\n",
    "collection = db[\"Events\"]\n",
    "\n",
    "collection.delete_many({})"
   ]
  },
  {
   "cell_type": "code",
   "execution_count": 3,
   "metadata": {},
   "outputs": [
    {
     "name": "stdout",
     "output_type": "stream",
     "text": [
      "Inserted document ID: 66d9f73dcedbf40b2a3c25f8\n",
      "Inserted document ID: 66d9f73fcedbf40b2a3c25f9\n"
     ]
    }
   ],
   "source": [
    "from typing import List\n",
    "from together import Together\n",
    "import json\n",
    "import time\n",
    "\n",
    "together_api_key = os.getenv('TOGETHER_API')\n",
    "\n",
    "\n",
    "#code for embedding\n",
    "embedding_model_string = 'WhereIsAI/UAE-Large-V1' # model API string from Together.\n",
    "\n",
    "def generate_embedding(input_texts: List[str], model_api_string: str) -> List[List[float]]:\n",
    "  together_client = Together(api_key=together_api_key)\n",
    "  outputs = together_client.embeddings.create(\n",
    "      input=input_texts,\n",
    "      model=model_api_string,\n",
    "  )\n",
    "  return [x.embedding for x in outputs.data]\n",
    "\n",
    "for index, row in postsDf.iterrows():\n",
    "    if row[\"is_event\"] == True:\n",
    "      row_dict = {}\n",
    "      for column in postsDf.columns.tolist():\n",
    "        if column in ['account','date','caption','accessibility_caption','url','likes','display_photo']:\n",
    "          row_dict[column] = row[column]\n",
    "      row_dict[\"embedded\"] = generate_embedding([row[\"processed_json\"]], embedding_model_string)  \n",
    "      row_dict[\"event_details\"] = row[\"event_details\"]\n",
    "      result = collection.insert_one(row_dict)\n",
    "      print(f\"Inserted document ID: {result.inserted_id}\")\n",
    "      time.sleep(1)\n",
    "\n",
    "\n",
    "\n",
    "        "
   ]
  },
  {
   "cell_type": "code",
   "execution_count": 9,
   "metadata": {},
   "outputs": [
    {
     "name": "stdout",
     "output_type": "stream",
     "text": [
      "🔥✨ Join us for our Bonfire End of Term event in collaboration with our friends at CSC, WiCS, and Tech+ ✨🔥\n",
      "\n",
      "📅 Tuesday, July 23rd\n",
      "⏰ 6:00 - 9:00 PM\n",
      "📍Columbia Lake, Fire Pit 1\n",
      "\n",
      "Please note this event is drop in! No need to stay for the whole time, come and go as you please, open to UWaterloo students😄\n",
      "\n",
      "Get ready for a fun evening with s'mores, hot dogs (vegan option available), drinks, freezies, and other snacks🍫😋\n",
      "\n",
      "Don't miss out! See you there 🌐\n",
      "\n",
      "Sign up using the link in bio🔗\n",
      "C9i2rTsgxql\n",
      "\n",
      "Want to gain hands-on experience with product development and improvement? Join us at our upcoming PRODUCT DEVELOPMENT NIGHT!!✨\n",
      "\n",
      "💼 This event will feature a short lecture about the essentials of product development followed by a collaborative case study facilitated by our very own UW PM execs.\n",
      "\n",
      "🗓️ Thursday, July 25th\n",
      "⏰ 6:30 - 8 PM\n",
      "📍E7 2nd Floor Ideas Clinic (2409)\n",
      "🥤Free Chungchun for everyone who signs up beforehand😋\n",
      "\n",
      "Link in bio to sign up :)\n",
      "C9vfxOhg0hw\n",
      "\n",
      "\n"
     ]
    }
   ],
   "source": [
    "\n",
    "def return_events(prompt):\n",
    "    query = prompt\n",
    "    query_emb = generate_embedding([query], embedding_model_string)[0]\n",
    "\n",
    "    results = collection.aggregate([\n",
    "    {\n",
    "        \"$vectorSearch\": {\n",
    "        \"queryVector\": query_emb,\n",
    "        \"path\": \"embedded\",\n",
    "        \"numCandidates\": 100, # this should be 10-20x the limit\n",
    "        \"limit\": 2, # the number of documents to return in the results\n",
    "        \"index\": \"vector_index\", # the index name you used in Step 4.\n",
    "        }\n",
    "    }\n",
    "    ])\n",
    "    response = \"\"\n",
    "    for i in results:\n",
    "        response += (i['caption']+ \"\\n\"+ i['url'] + '\\n\\n')\n",
    "    return response\n",
    "\n",
    "prompt = \"Cheese\"\n",
    "\n",
    "print(return_events(prompt))\n"
   ]
  }
 ],
 "metadata": {
  "kernelspec": {
   "display_name": "Python 3",
   "language": "python",
   "name": "python3"
  },
  "language_info": {
   "codemirror_mode": {
    "name": "ipython",
    "version": 3
   },
   "file_extension": ".py",
   "mimetype": "text/x-python",
   "name": "python",
   "nbconvert_exporter": "python",
   "pygments_lexer": "ipython3",
   "version": "3.12.7"
  }
 },
 "nbformat": 4,
 "nbformat_minor": 2
}
