{
 "cells": [
  {
   "cell_type": "code",
   "execution_count": 1,
   "metadata": {},
   "outputs": [],
   "source": [
    "import os\n",
    "from dotenv import load_dotenv\n",
    "from pymongo.mongo_client import MongoClient\n",
    "from pymongo.server_api import ServerApi\n",
    "import pandas as pd\n",
    "\n",
    "load_dotenv()\n",
    "uri = os.getenv('DATABASE_URI')\n",
    "client = MongoClient(uri, server_api=ServerApi('1'))\n",
    "db = client['Instagram']\n",
    "collection = db[\"Events\"]\n",
    "\n",
    "# postsDf = pd.read_csv(\"information_for_mongo.csv\")"
   ]
  },
  {
   "cell_type": "code",
   "execution_count": 2,
   "metadata": {},
   "outputs": [
    {
     "name": "stdout",
     "output_type": "stream",
     "text": [
      "1725827400.0 1725836400.0\n",
      "4 Start failed \n",
      "1725827400.0 1725836400.0\n",
      "1725926400.0 1725930000.0\n",
      "6 Start failed \n",
      "1725926400.0 1725930000.0\n"
     ]
    }
   ],
   "source": [
    "#time conversion and edit formats\n",
    "from datetime import datetime\n",
    "import time\n",
    "\n",
    "postsDf.reset_index(drop=True)\n",
    "postsDf = postsDf.fillna(value=\"None\")\n",
    "postsDf.drop(postsDf.columns[postsDf.columns.str.contains(\n",
    "    'unnamed', case=False)], axis=1, inplace=True)\n",
    "\n",
    "for index, row in postsDf.iterrows():\n",
    "    if row[\"is_event\"] == True:\n",
    "      row_dict = {}\n",
    "      row_dict = eval(row[\"event_details\"])\n",
    "      try:\n",
    "        conStart = datetime.fromisoformat(row_dict[\"start_time\"])\n",
    "        unixStart = time.mktime(conStart.timetuple())\n",
    "        try:\n",
    "          conEnd = datetime.fromisoformat(row_dict[\"end_time\"])\n",
    "          unixEnd = time.mktime(conEnd.timetuple())\n",
    "        except:\n",
    "          conEnd = None\n",
    "        row_dict[\"start_time\"]=unixStart\n",
    "        row_dict[\"end_time\"]=unixEnd\n",
    "      except:\n",
    "        postsDf.at[index, \"is_event\"] = False\n",
    "        err = f'Start failed {row_dict[\"start_time\"]}'\n",
    "        print(index, err)\n",
    "      postsDf.at[index, \"event_details\"] = row_dict\n",
    "      print(unixStart,unixEnd)"
   ]
  },
  {
   "cell_type": "code",
   "execution_count": null,
   "metadata": {},
   "outputs": [
    {
     "data": {
      "text/plain": [
       "DeleteResult({'n': 31, 'electionId': ObjectId('7fffffff0000000000000daa'), 'opTime': {'ts': Timestamp(1730605968, 94), 't': 3498}, 'ok': 1.0, '$clusterTime': {'clusterTime': Timestamp(1730605968, 94), 'signature': {'hash': b'\\x15?\\xe0\\x91\\xca\\xcdF\\x1b\\xaa\\x82\\xc45\"\\xd0\\xcf\\xfb\\xa0#d\\x08', 'keyId': 7394494294142222396}}, 'operationTime': Timestamp(1730605968, 94)}, acknowledged=True)"
      ]
     },
     "execution_count": 2,
     "metadata": {},
     "output_type": "execute_result"
    }
   ],
   "source": [
    "# #resetting db if nexessary\n",
    "# load_dotenv()\n",
    "# uri = os.getenv('DATABASE_URI')\n",
    "# client = MongoClient(uri, server_api=ServerApi('1'))\n",
    "# db = client['Instagram']\n",
    "# collection = db[\"Events\"]\n",
    "\n",
    "# collection.delete_many({})"
   ]
  },
  {
   "cell_type": "code",
   "execution_count": null,
   "metadata": {},
   "outputs": [
    {
     "ename": "NameError",
     "evalue": "name 'postsDf' is not defined",
     "output_type": "error",
     "traceback": [
      "\u001b[1;31m---------------------------------------------------------------------------\u001b[0m",
      "\u001b[1;31mNameError\u001b[0m                                 Traceback (most recent call last)",
      "Cell \u001b[1;32mIn[3], line 20\u001b[0m\n\u001b[0;32m     14\u001b[0m   outputs \u001b[38;5;241m=\u001b[39m together_client\u001b[38;5;241m.\u001b[39membeddings\u001b[38;5;241m.\u001b[39mcreate(\n\u001b[0;32m     15\u001b[0m       \u001b[38;5;28minput\u001b[39m\u001b[38;5;241m=\u001b[39minput_texts,\n\u001b[0;32m     16\u001b[0m       model\u001b[38;5;241m=\u001b[39mmodel_api_string,\n\u001b[0;32m     17\u001b[0m   )\n\u001b[0;32m     18\u001b[0m   \u001b[38;5;28;01mreturn\u001b[39;00m [x\u001b[38;5;241m.\u001b[39membedding \u001b[38;5;28;01mfor\u001b[39;00m x \u001b[38;5;129;01min\u001b[39;00m outputs\u001b[38;5;241m.\u001b[39mdata]\n\u001b[1;32m---> 20\u001b[0m \u001b[38;5;28;01mfor\u001b[39;00m index, row \u001b[38;5;129;01min\u001b[39;00m \u001b[43mpostsDf\u001b[49m\u001b[38;5;241m.\u001b[39miterrows():\n\u001b[0;32m     21\u001b[0m     \u001b[38;5;28;01mif\u001b[39;00m row[\u001b[38;5;124m\"\u001b[39m\u001b[38;5;124mis_event\u001b[39m\u001b[38;5;124m\"\u001b[39m] \u001b[38;5;241m==\u001b[39m \u001b[38;5;28;01mTrue\u001b[39;00m:\n\u001b[0;32m     22\u001b[0m       row_dict \u001b[38;5;241m=\u001b[39m {}\n",
      "\u001b[1;31mNameError\u001b[0m: name 'postsDf' is not defined"
     ]
    }
   ],
   "source": [
    "from typing import List\n",
    "from together import Together\n",
    "import json\n",
    "import time\n",
    "\n",
    "together_api_key = os.getenv('TOGETHER_API')\n",
    "\n",
    "\n",
    "#code for embedding\n",
    "embedding_model_string = 'BAAI/bge-large-en-v1.5' # model API string from Together.\n",
    "\n",
    "def generate_embedding(input_texts: List[str], model_api_string: str) -> List[List[float]]:\n",
    "  together_client = Together(api_key=together_api_key)\n",
    "  outputs = together_client.embeddings.create(\n",
    "      input=input_texts,\n",
    "      model=model_api_string,\n",
    "  )\n",
    "  return [x.embedding for x in outputs.data]\n",
    "\n",
    "for index, row in postsDf.iterrows():\n",
    "    if row[\"is_event\"] == True:\n",
    "      row_dict = {}\n",
    "      for column in postsDf.columns.tolist():\n",
    "        if column in ['account','date','caption','accessibility_caption','url','likes','display_photo']:\n",
    "          row_dict[column] = row[column]\n",
    "      row_dict[\"embedded\"] = generate_embedding([row[\"processed_json\"]], embedding_model_string)  \n",
    "      row_dict[\"event_details\"] = row[\"event_details\"]\n",
    "      result = collection.insert_one(row_dict)\n",
    "      print(f\"Inserted document ID: {result.inserted_id}\")\n",
    "      time.sleep(1)\n",
    "\n",
    "\n",
    "\n",
    "        "
   ]
  },
  {
   "cell_type": "code",
   "execution_count": 6,
   "metadata": {},
   "outputs": [
    {
     "name": "stdout",
     "output_type": "stream",
     "text": [
      "Gouda vibes only this Tuesday, fellow cheese enjoyers:Cranberry White Stilton is back, along with 4 others! Feeling blue? No worries, there is Limoncello Blue to raise your spirits on this grey day!  We also have Guinness Cheddar, Savello di Roma - a semi-hard sheep’s milk cheese, and Reblochon Savoie (the soft cheese that won last week!)! ••If any of these sound “grate,” come over to RCH 103 at 6:30pm today to claim your share of this cheese haul!🧀🧀🧀🧀🧀🪤\n",
      "C4JclfYgzHk\n",
      "\n",
      "Greetings cheese enjoyers,We've got another interesting selection of cheeses this week with the cranberry stilton, last week's winner, making a return appearance.We've also got TWO lactose-free cheeses this week with the frère Jacques and jalapeño gooda. That's right, not one, but TWO! Share the news with your friends!As always, come by RCH 103 around 6:30pm today to claim your share of this cheese haul!🧀🧀🧀🧀🧀🪤\n",
      "C3TSnKCAvRA\n",
      "\n",
      "\n"
     ]
    }
   ],
   "source": [
    "\n",
    "def return_events(prompt):\n",
    "    query = prompt\n",
    "    query_emb = generate_embedding([query], embedding_model_string)[0]\n",
    "\n",
    "    results = collection.aggregate([\n",
    "    {\n",
    "        \"$vectorSearch\": {\n",
    "        \"queryVector\": query_emb,\n",
    "        \"path\": \"embedded\",\n",
    "        \"numCandidates\": 100, # this should be 10-20x the limit\n",
    "        \"limit\": 2, # the number of documents to return in the results\n",
    "        \"index\": \"vector_index\", # the index name you used in Step 4.\n",
    "        }\n",
    "    }\n",
    "    ])\n",
    "    response = \"\"\n",
    "    for i in results:\n",
    "        response += (i['caption']+ \"\\n\"+ i['url'] + '\\n\\n')\n",
    "    return response\n",
    "\n",
    "prompt = \"Cheese\"\n",
    "\n",
    "print(return_events(prompt))\n"
   ]
  }
 ],
 "metadata": {
  "kernelspec": {
   "display_name": "Python 3",
   "language": "python",
   "name": "python3"
  },
  "language_info": {
   "codemirror_mode": {
    "name": "ipython",
    "version": 3
   },
   "file_extension": ".py",
   "mimetype": "text/x-python",
   "name": "python",
   "nbconvert_exporter": "python",
   "pygments_lexer": "ipython3",
   "version": "3.12.10"
  }
 },
 "nbformat": 4,
 "nbformat_minor": 2
}
